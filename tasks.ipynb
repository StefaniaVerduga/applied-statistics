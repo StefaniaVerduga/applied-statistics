{
 "cells": [
  {
   "cell_type": "markdown",
   "metadata": {},
   "source": [
    "### Module: Applied Statistics\n",
    "### Author: Stefania Verduga\n",
    "\n",
    "#### Task 1: Permutations and Combinations\n",
    "Suppose we alter the Lady Tasting Tea experiment to involve twelve cups of tea. Six have the milk in first and the other six having tea in first. A person claims they have the special power of being able to tell whether the tea or the milk went into a cup first upon tasting it. You agree to accept their claim if they can tell which of the six cups in your experiment had the milk in first.\n",
    "\n",
    "Calculate, using Python, the probability that they select the correct six cups. Here you should assume that they have no special powers in figuring it out, that they are just guessing. Remember to show and justify your workings in code and MarkDown cells.\n",
    "\n",
    "Suppose, now, you are willing to accept one error. Once they select the six cups they think had the milk in first, you will give them the benefit of the doubt should they have selected at least five of the correct cups. Calculate the probability, assuming they have no special powers, that the person makes at most one error.\n",
    "\n",
    "Would you accept two errors? Explain."
   ]
  },
  {
   "cell_type": "code",
   "execution_count": 1,
   "metadata": {},
   "outputs": [],
   "source": [
    "# Imports\n",
    "import math\n",
    "import itertools\n",
    "import random\n",
    "import numpy as np\n",
    "import scipy.stats as stats\n",
    "import matplotlib.pyplot as plt\n",
    "from scipy.stats import ttest_rel"
   ]
  },
  {
   "cell_type": "markdown",
   "metadata": {},
   "source": [
    "1. ### Permutations\n",
    "Permutation is the arrangement of items in a specific order. The order matters in permutations.\n",
    "Suppose we have three letters: A, B and C. How many ways can we arrange two of these letters?\n",
    "Possible arrangements are: AB, BA, AC, CA, BC, CB.\n",
    "\n",
    "2. ### Combinations\n",
    "Combination is a selection of items where the order does not matter. We only focus on the item chosen and not the sequence in which they appear.\n",
    "Using the same set of letter explained above: A, B and C. How many ways can we select two of these letters?\n",
    "Possible selections are: AB, AC, BC. We should take into account that AB and BA are considered the same combination as order does not matter.\n",
    "\n",
    "In the \"Lady Tasting Tea\" experiment we are going to select six cups out of twelve, where the order does not matter, so it's a combination problem. We are calculating how many ways someone could randomly select six cups, and figure out the probablity of selecting the correct ones.\n",
    "\n",
    "### Cups of Tea"
   ]
  },
  {
   "cell_type": "code",
   "execution_count": 2,
   "metadata": {},
   "outputs": [],
   "source": [
    "# Number of cups of tea in total.\n",
    "no_cups = 12\n",
    "\n",
    "# Number of cups of tea with milk in first.\n",
    "no_cups_milk_first = 6\n",
    "\n",
    "# Number of cups of tea with tea in first.\n",
    "no_cups_tea_first = 6"
   ]
  },
  {
   "cell_type": "code",
   "execution_count": 3,
   "metadata": {},
   "outputs": [
    {
     "data": {
      "text/plain": [
       "924"
      ]
     },
     "execution_count": 3,
     "metadata": {},
     "output_type": "execute_result"
    }
   ],
   "source": [
    "# Number of ways of selecting six cups from twelve.\n",
    "ways = math.comb(no_cups, no_cups_milk_first)\n",
    "\n",
    "# Show.\n",
    "ways"
   ]
  },
  {
   "cell_type": "markdown",
   "metadata": {},
   "source": [
    "### math.comb\n",
    "\n",
    "In order to better study the probablility of selecting the correct six cups in this experiment, I am using the module math from Python.\n",
    "https://docs.python.org/3/library/math.html#math.comb"
   ]
  },
  {
   "cell_type": "code",
   "execution_count": 4,
   "metadata": {},
   "outputs": [],
   "source": [
    "# Number of cups of tea in total.\n",
    "n = 12\n",
    "\n",
    "# Number of cups of tea with milk in first.\n",
    "k = 6"
   ]
  },
  {
   "cell_type": "markdown",
   "metadata": {},
   "source": [
    "### math.factorial\n",
    "https://docs.python.org/3/library/math.html#math.factorial"
   ]
  },
  {
   "cell_type": "code",
   "execution_count": 5,
   "metadata": {},
   "outputs": [
    {
     "data": {
      "text/plain": [
       "479001600"
      ]
     },
     "execution_count": 5,
     "metadata": {},
     "output_type": "execute_result"
    }
   ],
   "source": [
    "math.factorial(n)"
   ]
  },
  {
   "cell_type": "code",
   "execution_count": 6,
   "metadata": {},
   "outputs": [
    {
     "data": {
      "text/plain": [
       "479001600"
      ]
     },
     "execution_count": 6,
     "metadata": {},
     "output_type": "execute_result"
    }
   ],
   "source": [
    "# Twelve factorial.\n",
    "math.factorial(n)"
   ]
  },
  {
   "cell_type": "code",
   "execution_count": 7,
   "metadata": {},
   "outputs": [
    {
     "data": {
      "text/plain": [
       "720"
      ]
     },
     "execution_count": 7,
     "metadata": {},
     "output_type": "execute_result"
    }
   ],
   "source": [
    "# Six factorial.\n",
    "math.factorial(k)"
   ]
  },
  {
   "cell_type": "code",
   "execution_count": 8,
   "metadata": {},
   "outputs": [
    {
     "data": {
      "text/plain": [
       "720"
      ]
     },
     "execution_count": 8,
     "metadata": {},
     "output_type": "execute_result"
    }
   ],
   "source": [
    "# Six factorial.\n",
    "math.factorial(n - k)"
   ]
  },
  {
   "cell_type": "code",
   "execution_count": 9,
   "metadata": {},
   "outputs": [
    {
     "data": {
      "text/plain": [
       "924"
      ]
     },
     "execution_count": 9,
     "metadata": {},
     "output_type": "execute_result"
    }
   ],
   "source": [
    "# Number of ways of selecting k objects from n without replacement and without order.\n",
    "math.factorial(n) // (math.factorial(k) * math.factorial(n - k))"
   ]
  },
  {
   "cell_type": "markdown",
   "metadata": {},
   "source": [
    "### Results\n",
    "https://docs.python.org/3/library/itertools.html#itertools.combinations"
   ]
  },
  {
   "cell_type": "code",
   "execution_count": 10,
   "metadata": {},
   "outputs": [
    {
     "data": {
      "text/plain": [
       "[0, 1, 2, 3, 4, 5, 6, 7, 8, 9, 10, 11]"
      ]
     },
     "execution_count": 10,
     "metadata": {},
     "output_type": "execute_result"
    }
   ],
   "source": [
    "# The cup labels.\n",
    "labels = list(range(no_cups))\n",
    "\n",
    "# Show.\n",
    "labels"
   ]
  },
  {
   "cell_type": "code",
   "execution_count": 11,
   "metadata": {},
   "outputs": [
    {
     "data": {
      "text/plain": [
       "[(0, 1, 2, 3, 4, 5),\n",
       " (0, 1, 2, 3, 4, 6),\n",
       " (0, 1, 2, 3, 4, 7),\n",
       " (0, 1, 2, 3, 4, 8),\n",
       " (0, 1, 2, 3, 4, 9),\n",
       " '...',\n",
       " (5, 6, 7, 8, 10, 11),\n",
       " (5, 6, 7, 9, 10, 11),\n",
       " (5, 6, 8, 9, 10, 11),\n",
       " (5, 7, 8, 9, 10, 11),\n",
       " (6, 7, 8, 9, 10, 11)]"
      ]
     },
     "execution_count": 11,
     "metadata": {},
     "output_type": "execute_result"
    }
   ],
   "source": [
    "# Different ways of selecting no_cups_milk_first out of no_cups of tea.\n",
    "combs = list(itertools.combinations(labels, no_cups_milk_first))\n",
    "\n",
    "# Show only the first and last 5 combinations.\n",
    "combs_short = combs[:5] + [\"...\"] + combs[-5:]\n",
    "combs_short"
   ]
  },
  {
   "cell_type": "markdown",
   "metadata": {},
   "source": [
    "### Combination Formula\n",
    "\n",
    "The combination formula is:\n",
    "\n",
    "$$\n",
    "C(n, k) = \\frac{n!}{k!(n - k)!}\n",
    "$$\n",
    "\n",
    "This combination function calculates the number of ways to choose k items from n items, where the order does not matter.\n"
   ]
  },
  {
   "cell_type": "code",
   "execution_count": 12,
   "metadata": {},
   "outputs": [],
   "source": [
    "# Function to calculate combinations.\n",
    "\n",
    "def combinations(n, k):\n",
    "    return math.comb(n, k)"
   ]
  },
  {
   "cell_type": "markdown",
   "metadata": {},
   "source": [
    "### Probability of guessing all 6 cups.\n",
    "\n",
    "- There are 12 cups in total, 6 of which have milk in first. We need to calculate how many ways we can select 6 cups from 12, which is given by combinations(12, 6).\n",
    "- Since there is only 1 correct combination (the exact 6 cups with milk first), the probability of guessing all 6 cups correctly is:\n",
    "$$\n",
    "P(all\\ correct) = \\frac{1}{C(12,6)}\n",
    "$$\n"
   ]
  },
  {
   "cell_type": "code",
   "execution_count": 13,
   "metadata": {},
   "outputs": [
    {
     "data": {
      "text/plain": [
       "0.0010822510822510823"
      ]
     },
     "execution_count": 13,
     "metadata": {},
     "output_type": "execute_result"
    }
   ],
   "source": [
    "# Probability of guessing all 6 cups correctly.\n",
    "\n",
    "total_combinations = combinations(12, 6)\n",
    "prob_6_correct = 1 / total_combinations\n",
    "\n",
    "# Show\n",
    "prob_6_correct"
   ]
  },
  {
   "cell_type": "markdown",
   "metadata": {},
   "source": [
    "### Probability of guessing exactly 5 correct.\n",
    "\n",
    "The person guesses 5 cups correctly and 1 incorrectly. This happens by:\n",
    "- Choosing 5 correct cups from the 6 actual cups with milk first (combinations(6, 5)).\n",
    "- Choosing 1 incorrect cup from the 6 cups where tea was poured first (combinations(6, 1)).\n",
    "\n",
    "The total probability of guessing exactly 5 correct is:\n",
    "$$\n",
    "P(5\\ correct) = \\frac{C(6,5)\\ x\\ C(6,1)}{C(12,6)}\n",
    "$$"
   ]
  },
  {
   "cell_type": "code",
   "execution_count": 14,
   "metadata": {},
   "outputs": [
    {
     "data": {
      "text/plain": [
       "0.03896103896103896"
      ]
     },
     "execution_count": 14,
     "metadata": {},
     "output_type": "execute_result"
    }
   ],
   "source": [
    "# Probability of guessing exactly 5 correctly.\n",
    "\n",
    "prob_5_correct = (combinations(6, 5) * combinations(6, 1)) / total_combinations\n",
    "\n",
    "# Show.\n",
    "prob_5_correct"
   ]
  },
  {
   "cell_type": "markdown",
   "metadata": {},
   "source": [
    "### Probability of guessing exactly 4 correct.\n",
    "\n",
    "The person guesses 4 cups correctly and 2 incorrectly. This happens by:\n",
    "- Choosing 4 correct cups from the 6 actual cups with milk first (combinations(6, 4)).\n",
    "- Choosing 2 incorrect cups from the 6 cups where tea was poured first (combinations(6, 2)).\n",
    "\n",
    "The total probability of guessing exactly 4 correct is:\n",
    "$$\n",
    "P(4\\ correct) = \\frac{C(6,4)\\ x\\ C(6,2)}{C(12,6)}\n",
    "$$"
   ]
  },
  {
   "cell_type": "code",
   "execution_count": 15,
   "metadata": {},
   "outputs": [
    {
     "data": {
      "text/plain": [
       "0.2435064935064935"
      ]
     },
     "execution_count": 15,
     "metadata": {},
     "output_type": "execute_result"
    }
   ],
   "source": [
    "# Probability of guessing exactly 5 correctly.\n",
    "\n",
    "prob_4_correct = (combinations(6, 4) * combinations(6, 2)) / total_combinations\n",
    "\n",
    "# Show.\n",
    "prob_4_correct"
   ]
  },
  {
   "cell_type": "markdown",
   "metadata": {},
   "source": [
    "### Probability of guessing at least 5 correct.\n",
    "\n",
    "This is the probability of guessing either all 6 cups correctly or exactly 5 cups correctly (at most 1 error). It's the sum of both probabilities:\n",
    "$$\n",
    "P(at\\ least\\ 4\\ correct) = P(6\\ correct) + P(5\\ correct)\n",
    "$$"
   ]
  },
  {
   "cell_type": "code",
   "execution_count": 16,
   "metadata": {},
   "outputs": [
    {
     "data": {
      "text/plain": [
       "0.04004329004329004"
      ]
     },
     "execution_count": 16,
     "metadata": {},
     "output_type": "execute_result"
    }
   ],
   "source": [
    "# Probability of guessing at least 5 correctly (at most one error).\n",
    "\n",
    "prob_at_least_5_correct = prob_6_correct + prob_5_correct\n",
    "\n",
    "# Show.\n",
    "prob_at_least_5_correct"
   ]
  },
  {
   "cell_type": "markdown",
   "metadata": {},
   "source": [
    "### Hypothesis Test for the Lady Tasting Tea Experiment.\n",
    "\n",
    "#### Hypotheses:\n",
    "- **Null Hypothesis (H₀)**: The person does not have the ability to distinguish whether milk or tea was added first. If they’re just guessing, any correct answers would be due to pure chance.\n",
    "- **Alternative Hypothesis (H₁)**: The person does have the ability to distinguish whether milk or tea was added first. They would perform better than random guessing.\n",
    "\n",
    "https://en.wikipedia.org/wiki/Statistical_hypothesis_test\n",
    "\n",
    "#### Calculations:\n",
    "In this hypothesis testing, I am setting a significance level (5%, or α=0.05) to decide when to reject the null hypothesis.\n",
    "\n",
    "1. **Probability of selecting all 6 cups correctly (P = 1 / C(12, 6))**: This represents the chance of a correct selection if the person is merely guessing. This probability is very low (around 0.1%), indicating that the chance of correctly identifying all 6 cups purely by guessing is quite unlikely.\n",
    "\n",
    "2. **Probability of selecting exactly 5 cups correctly (P = C(6, 5) * C(6, 1) / C(12, 6))**: This is the probability of getting exactly 5 correct guesses and 1 incorrect guess. \n",
    "This probability is also relatively low, approximately 3.9%. If the person guesses exactly 5 cups correctly, it’s still unlikely under random guessing. Achieving exactly 5 correct selections by guessing could happen by chance, but it would still lean toward rejecting the null hypothesis\n",
    "\n",
    "3. **Probability of getting at least 5 correct guesses**: This is the sum of the probabilities of getting 6 correct and exactly 5 correct, representing the event where the person makes at most one error.\n",
    "This combined probability is around 4%, it’s low enough to suggest that achieving at least 5 correct selections purely by guessing is unlikely.\n",
    "If the person achieves at least 5 correct, it would give us reason to reject the null hypothesis and suggest that the person may indeed have a special ability to distinguish between the cups.\n",
    "\n",
    "#### Conclusion:\n",
    "Given the low probability of achieving at least 5 correct selections under the null hypothesis (0.04004 or 4%), we would consider rejecting the null hypothesis if the person correctly identifies at least 5 cups. This suggests that the person’s performance is unlikely to be due to random guessing, implying some ability to distinguish between the tea-first and milk-first cups.\n"
   ]
  },
  {
   "cell_type": "markdown",
   "metadata": {},
   "source": [
    "#### Task 2: Numpy's Normal Distribution\n",
    "In this task you will assess whether numpy.random.normal() properly generates normal values. To begin, generate a sample of one hundred thousand values using the function with mean 10.0 and standard deviation 3.0.\n",
    "\n",
    "Use the scipy.stats.shapiro() function to test whether your sample came from a normal distribution. Explain the results and output.\n",
    "\n",
    "Plot a histogram of your values and plot the corresponding normal distribution probability density function on top of it."
   ]
  },
  {
   "cell_type": "markdown",
   "metadata": {},
   "source": [
    "### Generate a sample.\n",
    "\n",
    "The first step in this case is to generate one hundred thousand values from a normal distribution with a mean of 10.0 and standard deviation of 3.0. I will need to use numpy.random.normal() to do this."
   ]
  },
  {
   "cell_type": "code",
   "execution_count": 17,
   "metadata": {},
   "outputs": [
    {
     "data": {
      "text/plain": [
       "array([11.08524509,  9.48022806, 16.97993151, ..., 12.33901977,\n",
       "        9.95226452,  8.20848328])"
      ]
     },
     "execution_count": 17,
     "metadata": {},
     "output_type": "execute_result"
    }
   ],
   "source": [
    "# Generate a sample.\n",
    "\n",
    "mean = 10.0\n",
    "std_dev = 3.0\n",
    "sample_size = 100000\n",
    "\n",
    "# Generate 100k random values from a normal distribution.\n",
    "\n",
    "sample = np.random.normal(loc=mean, scale=std_dev, size=sample_size)\n",
    "\n",
    "# Show.\n",
    "sample"
   ]
  },
  {
   "cell_type": "markdown",
   "metadata": {},
   "source": [
    "### Shapiro-Wilk Test.\n",
    "\n",
    "This test checks whether the generated sample follows a Normal Distribution. The p-value will determine if we can reject the null hypothesis of normality. The test statistic W is computed using the following formula:\n",
    "\n",
    "$$\n",
    "W = \\frac{\\left( \\sum_{i=1}^{n} a_i x_{(i)} \\right)^2}{\\sum_{i=1}^{n} (x_i - \\bar{x})^2}\n",
    "$$\n",
    "\n",
    "where:\n",
    "- \\( W \\): Shapiro-Wilk test statistic.\n",
    "- \\( x_{(i)} \\): Ordered sample values (sorted from smallest to largest).\n",
    "- \\( \\bar{x} \\): Sample mean.\n",
    "- \\( a_i \\): Weights calculated from expected values of the order statistics of a sample from a normal distribution.\n",
    "- \\( n \\): Sample size.\n",
    "\n",
    "A low value of W (close to 0) suggests that the sample is not normally distributed.\n",
    "A high value of W (close to 1) suggests the sample data is normally distributed.\n",
    "\n",
    "The p-value will determine if you can reject the null hypothesis of normality.\n",
    "\n",
    "- If **p_value < 0.05**, it suggests that the data is not normally distributed, which would be unexpected given you generated the data from a normal distribution.\n",
    "- If **p_value >= 0.05**, it suggests that the sample data is likely normally distributed.\n",
    "\n",
    "https://en.wikipedia.org/wiki/Shapiro%E2%80%93Wilk_test"
   ]
  },
  {
   "cell_type": "code",
   "execution_count": 18,
   "metadata": {},
   "outputs": [
    {
     "name": "stdout",
     "output_type": "stream",
     "text": [
      "Shapiro-Wilk Test Statistic: 0.9996767685246568\n",
      "p-value: 0.6360646356796261\n",
      "The null hypothesis of normality is not rejected (data is normal).\n"
     ]
    }
   ],
   "source": [
    "# Perform the Shapiro-Wilk test for normality.\n",
    "shapiro_stat, p_value = stats.shapiro(sample[:5000])  # Subset of data (Shapiro is sensitive to large sizes).\n",
    "\n",
    "# Output test result.\n",
    "print(f\"Shapiro-Wilk Test Statistic: {shapiro_stat}\")\n",
    "print(f\"p-value: {p_value}\")\n",
    "if p_value < 0.05:\n",
    "    print(\"The null hypothesis of normality is rejected (data is not normal).\")\n",
    "else:\n",
    "    print(\"The null hypothesis of normality is not rejected (data is normal).\")\n"
   ]
  },
  {
   "cell_type": "markdown",
   "metadata": {},
   "source": [
    "### Histogram and Probability Density Function Plot.\n",
    "\n",
    "The histogram provides a visual representation of the distribution of the sample values.\n",
    "The Probability Density Function of a normal distribution with mean = 10 and std_dev = 3 is plotted to check visually if the generated data fits the expected normal distribution.\n",
    "\n",
    "https://docs.scipy.org/doc/scipy/reference/generated/scipy.stats.norm.html\n",
    "https://numpy.org/devdocs/reference/generated/numpy.linspace.html"
   ]
  },
  {
   "cell_type": "code",
   "execution_count": 19,
   "metadata": {},
   "outputs": [
    {
     "data": {
      "image/png": "[encoded data removed]",
      "text/plain": [
       "<Figure size 640x480 with 1 Axes>"
      ]
     },
     "metadata": {},
     "output_type": "display_data"
    }
   ],
   "source": [
    "# Plot a histogram and the normal distribution.\n",
    "\n",
    "# Plot the histogram of the sample.\n",
    "plt.hist(sample, bins=50, density=True, alpha=0.6, color='b')\n",
    "\n",
    "# Define the Probability Density Function of the normal distribution.\n",
    "xmin, xmax = plt.xlim()\n",
    "x = np.linspace(xmin, xmax, 1000)\n",
    "p = stats.norm.pdf(x, mean, std_dev)\n",
    "\n",
    "# Plot the Probability Density Function on top of the histogram.\n",
    "plt.plot(x, p, 'k', linewidth=2)\n",
    "title = \"Fit results: mean = %.2f,  std_dev = %.2f\" % (mean, std_dev)\n",
    "plt.title(title)\n",
    "\n",
    "# Show plot\n",
    "plt.show()"
   ]
  },
  {
   "cell_type": "markdown",
   "metadata": {},
   "source": [
    "#### Task 3: t-Test Calculation\n",
    "Consider the following dataset containing resting heart rates for patients before and after embarking on a two-week exercise program.\n",
    "\n",
    "| Patient ID | 0  | 1  | 2  | 3  | 4  | 5  | 6  | 7  | 8  | 9  |\n",
    "|------------|----|----|----|----|----|----|----|----|----|----|\n",
    "| Before     | 63 | 68 | 70 | 64 | 74 | 67 | 70 | 57 | 66 | 65 |\n",
    "| After      | 64 | 64 | 68 | 64 | 73 | 70 | 72 | 54 | 61 | 63 |\n",
    "\n",
    "Calculate the t-statistic based on this data set, using Python. Compare it to the value given by scipy.stats. Explain your work and list any sources used."
   ]
  },
  {
   "cell_type": "markdown",
   "metadata": {},
   "source": [
    "### What is the t-Test Statistic?\n",
    "\n",
    "The t-Test Statistic is a measure used in statistical hypothesis testing to determine whether there is a significant difference between the means of two groups or conditions. Specifically, the paired t-Test checks whether the mean between paired observations (e.g., before and after measurements) is significantly different from zero.\n",
    "\n",
    "### How does the t-Test work?\n",
    "\n",
    "1. #### Hypothesis\n",
    "- Null Hypothesis (H0): The mean difference between the paired samples is zero ($\\mu_d = 0$).\n",
    "- Alternative Hypothesis (𝐻𝑎): The mean difference is not zero ($H_a: \\mu_d \\neq 0$)\n",
    "\n",
    "2. #### Formula for the t-Test statistic.\n",
    "The t-Test statistic is calculated using the formula:\n",
    "\n",
    "$t = \\frac{\\bar{d}}{s_d / \\sqrt{n}}$\n",
    "\n",
    "Where:\n",
    "- ${\\bar{d}}$: Mean of the differences between paired samples.\n",
    "- ${s_d}$ : Sample standard deviation of the differences.\n",
    "- ${n}$ : Number of paired observations.\n",
    "\n",
    "3. #### Distribution\n",
    "- The t-Test statistic follows a t-distribution with ${n-1}$ degrees of freedom ${df = {n-1}}$ when the null hypothesis is true.\n",
    "- The shape of the t-distribution depends on the sample size:\n",
    "    - For small samples ${n<30}$, it is wider and has heavier tails than the normal distribution.\n",
    "    - For large samples, it approaches the normal distribution.\n",
    "\n",
    "4. #### P-value\n",
    "- The p-value is the probability of observing a t-statistic as extreme as the calculated one if the null hypothesis is true.\n",
    "- A small p-value (e.g.,${p<0.05}$) suggests rejecting the null hypothesis, indicating a significant difference.\n",
    "\n",
    "### Defining the data and Resolution.\n",
    "In the specific case of this task, we have the following data:\n",
    "\n",
    "- The 'before' and 'after' variables are arrays representing the resting heart rates of ten patients before and after the exercise program.\n",
    "- These values are paired because each 'before' corresponds to the same patient as the respective 'after'."
   ]
  },
  {
   "cell_type": "code",
   "execution_count": 20,
   "metadata": {},
   "outputs": [],
   "source": [
    "# Data from the exercise\n",
    "before = np.array([63, 68, 70, 64, 74, 67, 70, 57, 66, 65])\n",
    "after = np.array([64, 64, 68, 64, 73, 70, 72, 54, 61, 63])"
   ]
  },
  {
   "cell_type": "code",
   "execution_count": 21,
   "metadata": {},
   "outputs": [
    {
     "name": "stdout",
     "output_type": "stream",
     "text": [
      "1.3372274824806283\n"
     ]
    }
   ],
   "source": [
    "# Calculation of the t-statistic\n",
    "\n",
    "differences = before - after\n",
    "n = len(differences) # Number of patients\n",
    "mean_diff = np.mean(differences) # Mean of the differences\n",
    "std_diff = np.std(differences, ddof=1) # Sample standard deviation of the differences\n",
    "t_statistic = mean_diff / (std_diff / np.sqrt(n)) # t-statistic formula\n",
    "\n",
    "print (t_statistic)"
   ]
  },
  {
   "cell_type": "markdown",
   "metadata": {},
   "source": [
    "### References\n",
    "\n",
    "https://datatab.net/tutorial/t-test\\\n",
    "https://docs.scipy.org/doc/scipy/reference/generated/scipy.stats.ttest_ind.html#ttest-ind"
   ]
  },
  {
   "cell_type": "code",
   "execution_count": null,
   "metadata": {},
   "outputs": [],
   "source": []
  }
 ],
 "metadata": {
  "kernelspec": {
   "display_name": "base",
   "language": "python",
   "name": "python3"
  },
  "language_info": {
   "codemirror_mode": {
    "name": "ipython",
    "version": 3
   },
   "file_extension": ".py",
   "mimetype": "text/x-python",
   "name": "python",
   "nbconvert_exporter": "python",
   "pygments_lexer": "ipython3",
   "version": "3.9.19"
  }
 },
 "nbformat": 4,
 "nbformat_minor": 2
}
