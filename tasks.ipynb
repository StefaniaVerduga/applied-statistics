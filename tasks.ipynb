{
 "cells": [
  {
   "cell_type": "markdown",
   "metadata": {},
   "source": [
    "### Module: Applied Statistics\n",
    "### Author: Stefania Verduga\n",
    "\n",
    "### Task 1: Permutations and Combinations\n",
    "Suppose we alter the Lady Tasting Tea experiment to involve twelve cups of tea. Six have the milk in first and the other six having tea in first. A person claims they have the special power of being able to tell whether the tea or the milk went into a cup first upon tasting it. You agree to accept their claim if they can tell which of the six cups in your experiment had the milk in first.\n",
    "\n",
    "Calculate, using Python, the probability that they select the correct six cups. Here you should assume that they have no special powers in figuring it out, that they are just guessing. Remember to show and justify your workings in code and MarkDown cells.\n",
    "\n",
    "Suppose, now, you are willing to accept one error. Once they select the six cups they think had the milk in first, you will give them the benefit of the doubt should they have selected at least five of the correct cups. Calculate the probability, assuming they have no special powers, that the person makes at most one error.\n",
    "\n",
    "Would you accept two errors? Explain."
   ]
  },
  {
   "cell_type": "code",
   "execution_count": 1,
   "metadata": {},
   "outputs": [],
   "source": [
    "# Imports\n",
    "import math\n",
    "import itertools\n",
    "import random\n",
    "import numpy as np\n",
    "import scipy.stats as stats\n",
    "import matplotlib.pyplot as plt\n",
    "from scipy.stats import ttest_rel\n",
    "import seaborn as sns"
   ]
  },
  {
   "cell_type": "markdown",
   "metadata": {},
   "source": [
    "1. ### Permutations\n",
    "Permutation is the arrangement of items in a specific order. The order matters in permutations.\n",
    "Suppose we have three letters: A, B and C. How many ways can we arrange two of these letters?\n",
    "Possible arrangements are: AB, BA, AC, CA, BC, CB.\n",
    "\n",
    "2. ### Combinations\n",
    "Combination is a selection of items where the order does not matter. We only focus on the item chosen and not the sequence in which they appear.\n",
    "Using the same set of letter explained above: A, B and C. How many ways can we select two of these letters?\n",
    "Possible selections are: AB, AC, BC. We should take into account that AB and BA are considered the same combination as order does not matter.\n",
    "\n",
    "In the \"Lady Tasting Tea\" experiment we are going to select six cups out of twelve, where the order does not matter, so it's a combination problem. We are calculating how many ways someone could randomly select six cups, and figure out the probablity of selecting the correct ones.\n",
    "\n",
    "### Cups of Tea"
   ]
  },
  {
   "cell_type": "code",
   "execution_count": 2,
   "metadata": {},
   "outputs": [],
   "source": [
    "# Number of cups of tea in total.\n",
    "no_cups = 12\n",
    "\n",
    "# Number of cups of tea with milk in first.\n",
    "no_cups_milk_first = 6\n",
    "\n",
    "# Number of cups of tea with tea in first.\n",
    "no_cups_tea_first = 6"
   ]
  },
  {
   "cell_type": "code",
   "execution_count": 3,
   "metadata": {},
   "outputs": [
    {
     "data": {
      "text/plain": [
       "924"
      ]
     },
     "execution_count": 3,
     "metadata": {},
     "output_type": "execute_result"
    }
   ],
   "source": [
    "# Number of ways of selecting six cups from twelve.\n",
    "ways = math.comb(no_cups, no_cups_milk_first)\n",
    "\n",
    "# Show.\n",
    "ways"
   ]
  },
  {
   "cell_type": "markdown",
   "metadata": {},
   "source": [
    "### math.comb\n",
    "\n",
    "In order to better study the probablility of selecting the correct six cups in this experiment, I am using the module math from Python."
   ]
  },
  {
   "cell_type": "code",
   "execution_count": 4,
   "metadata": {},
   "outputs": [],
   "source": [
    "# Number of cups of tea in total.\n",
    "n = 12\n",
    "\n",
    "# Number of cups of tea with milk in first.\n",
    "k = 6"
   ]
  },
  {
   "cell_type": "markdown",
   "metadata": {},
   "source": [
    "### math.factorial"
   ]
  },
  {
   "cell_type": "code",
   "execution_count": 5,
   "metadata": {},
   "outputs": [
    {
     "data": {
      "text/plain": [
       "479001600"
      ]
     },
     "execution_count": 5,
     "metadata": {},
     "output_type": "execute_result"
    }
   ],
   "source": [
    "math.factorial(n)"
   ]
  },
  {
   "cell_type": "code",
   "execution_count": 6,
   "metadata": {},
   "outputs": [
    {
     "data": {
      "text/plain": [
       "479001600"
      ]
     },
     "execution_count": 6,
     "metadata": {},
     "output_type": "execute_result"
    }
   ],
   "source": [
    "# Twelve factorial.\n",
    "math.factorial(n)"
   ]
  },
  {
   "cell_type": "code",
   "execution_count": 7,
   "metadata": {},
   "outputs": [
    {
     "data": {
      "text/plain": [
       "720"
      ]
     },
     "execution_count": 7,
     "metadata": {},
     "output_type": "execute_result"
    }
   ],
   "source": [
    "# Six factorial.\n",
    "math.factorial(k)"
   ]
  },
  {
   "cell_type": "code",
   "execution_count": 8,
   "metadata": {},
   "outputs": [
    {
     "data": {
      "text/plain": [
       "720"
      ]
     },
     "execution_count": 8,
     "metadata": {},
     "output_type": "execute_result"
    }
   ],
   "source": [
    "# Six factorial.\n",
    "math.factorial(n - k)"
   ]
  },
  {
   "cell_type": "code",
   "execution_count": 9,
   "metadata": {},
   "outputs": [
    {
     "data": {
      "text/plain": [
       "924"
      ]
     },
     "execution_count": 9,
     "metadata": {},
     "output_type": "execute_result"
    }
   ],
   "source": [
    "# Number of ways of selecting k objects from n without replacement and without order.\n",
    "math.factorial(n) // (math.factorial(k) * math.factorial(n - k))"
   ]
  },
  {
   "cell_type": "markdown",
   "metadata": {},
   "source": [
    "### Results"
   ]
  },
  {
   "cell_type": "code",
   "execution_count": 10,
   "metadata": {},
   "outputs": [
    {
     "data": {
      "text/plain": [
       "[0, 1, 2, 3, 4, 5, 6, 7, 8, 9, 10, 11]"
      ]
     },
     "execution_count": 10,
     "metadata": {},
     "output_type": "execute_result"
    }
   ],
   "source": [
    "# The cup labels.\n",
    "labels = list(range(no_cups))\n",
    "\n",
    "# Show.\n",
    "labels"
   ]
  },
  {
   "cell_type": "code",
   "execution_count": 11,
   "metadata": {},
   "outputs": [
    {
     "data": {
      "text/plain": [
       "[(0, 1, 2, 3, 4, 5),\n",
       " (0, 1, 2, 3, 4, 6),\n",
       " (0, 1, 2, 3, 4, 7),\n",
       " (0, 1, 2, 3, 4, 8),\n",
       " (0, 1, 2, 3, 4, 9),\n",
       " '...',\n",
       " (5, 6, 7, 8, 10, 11),\n",
       " (5, 6, 7, 9, 10, 11),\n",
       " (5, 6, 8, 9, 10, 11),\n",
       " (5, 7, 8, 9, 10, 11),\n",
       " (6, 7, 8, 9, 10, 11)]"
      ]
     },
     "execution_count": 11,
     "metadata": {},
     "output_type": "execute_result"
    }
   ],
   "source": [
    "# Different ways of selecting no_cups_milk_first out of no_cups of tea.\n",
    "combs = list(itertools.combinations(labels, no_cups_milk_first))\n",
    "\n",
    "# Show only the first and last 5 combinations.\n",
    "combs_short = combs[:5] + [\"...\"] + combs[-5:]\n",
    "combs_short"
   ]
  },
  {
   "cell_type": "markdown",
   "metadata": {},
   "source": [
    "### Combination Formula\n",
    "\n",
    "The combination formula is:\n",
    "\n",
    "$$\n",
    "C(n, k) = \\frac{n!}{k!(n - k)!}\n",
    "$$\n",
    "\n",
    "This combination function calculates the number of ways to choose k items from n items, where the order does not matter.\n"
   ]
  },
  {
   "cell_type": "code",
   "execution_count": 12,
   "metadata": {},
   "outputs": [],
   "source": [
    "# Function to calculate combinations.\n",
    "\n",
    "def combinations(n, k):\n",
    "    return math.comb(n, k)"
   ]
  },
  {
   "cell_type": "markdown",
   "metadata": {},
   "source": [
    "### Probability of guessing all 6 cups.\n",
    "\n",
    "- There are 12 cups in total, 6 of which have milk in first. We need to calculate how many ways we can select 6 cups from 12, which is given by combinations(12, 6).\n",
    "- Since there is only 1 correct combination (the exact 6 cups with milk first), the probability of guessing all 6 cups correctly is:\n",
    "$$\n",
    "P(all\\ correct) = \\frac{1}{C(12,6)}\n",
    "$$\n"
   ]
  },
  {
   "cell_type": "code",
   "execution_count": 13,
   "metadata": {},
   "outputs": [
    {
     "data": {
      "text/plain": [
       "0.0010822510822510823"
      ]
     },
     "execution_count": 13,
     "metadata": {},
     "output_type": "execute_result"
    }
   ],
   "source": [
    "# Probability of guessing all 6 cups correctly.\n",
    "\n",
    "total_combinations = combinations(12, 6)\n",
    "prob_6_correct = 1 / total_combinations\n",
    "\n",
    "# Show\n",
    "prob_6_correct"
   ]
  },
  {
   "cell_type": "markdown",
   "metadata": {},
   "source": [
    "### Probability of guessing exactly 5 correct.\n",
    "\n",
    "The person guesses 5 cups correctly and 1 incorrectly. This happens by:\n",
    "- Choosing 5 correct cups from the 6 actual cups with milk first (combinations(6, 5)).\n",
    "- Choosing 1 incorrect cup from the 6 cups where tea was poured first (combinations(6, 1)).\n",
    "\n",
    "The total probability of guessing exactly 5 correct is:\n",
    "$$\n",
    "P(5\\ correct) = \\frac{C(6,5)\\ x\\ C(6,1)}{C(12,6)}\n",
    "$$"
   ]
  },
  {
   "cell_type": "code",
   "execution_count": 14,
   "metadata": {},
   "outputs": [
    {
     "data": {
      "text/plain": [
       "0.03896103896103896"
      ]
     },
     "execution_count": 14,
     "metadata": {},
     "output_type": "execute_result"
    }
   ],
   "source": [
    "# Probability of guessing exactly 5 correctly.\n",
    "\n",
    "prob_5_correct = (combinations(6, 5) * combinations(6, 1)) / total_combinations\n",
    "\n",
    "# Show.\n",
    "prob_5_correct"
   ]
  },
  {
   "cell_type": "markdown",
   "metadata": {},
   "source": [
    "### Probability of guessing exactly 4 correct.\n",
    "\n",
    "The person guesses 4 cups correctly and 2 incorrectly. This happens by:\n",
    "- Choosing 4 correct cups from the 6 actual cups with milk first (combinations(6, 4)).\n",
    "- Choosing 2 incorrect cups from the 6 cups where tea was poured first (combinations(6, 2)).\n",
    "\n",
    "The total probability of guessing exactly 4 correct is:\n",
    "$$\n",
    "P(4\\ correct) = \\frac{C(6,4)\\ x\\ C(6,2)}{C(12,6)}\n",
    "$$"
   ]
  },
  {
   "cell_type": "code",
   "execution_count": 15,
   "metadata": {},
   "outputs": [
    {
     "data": {
      "text/plain": [
       "0.2435064935064935"
      ]
     },
     "execution_count": 15,
     "metadata": {},
     "output_type": "execute_result"
    }
   ],
   "source": [
    "# Probability of guessing exactly 5 correctly.\n",
    "\n",
    "prob_4_correct = (combinations(6, 4) * combinations(6, 2)) / total_combinations\n",
    "\n",
    "# Show.\n",
    "prob_4_correct"
   ]
  },
  {
   "cell_type": "markdown",
   "metadata": {},
   "source": [
    "### Probability of guessing at least 5 correct.\n",
    "\n",
    "This is the probability of guessing either all 6 cups correctly or exactly 5 cups correctly (at most 1 error). It's the sum of both probabilities:\n",
    "$$\n",
    "P(at\\ least\\ 4\\ correct) = P(6\\ correct) + P(5\\ correct)\n",
    "$$"
   ]
  },
  {
   "cell_type": "code",
   "execution_count": 16,
   "metadata": {},
   "outputs": [
    {
     "data": {
      "text/plain": [
       "0.04004329004329004"
      ]
     },
     "execution_count": 16,
     "metadata": {},
     "output_type": "execute_result"
    }
   ],
   "source": [
    "# Probability of guessing at least 5 correctly (at most one error).\n",
    "\n",
    "prob_at_least_5_correct = prob_6_correct + prob_5_correct\n",
    "\n",
    "# Show.\n",
    "prob_at_least_5_correct"
   ]
  },
  {
   "cell_type": "markdown",
   "metadata": {},
   "source": [
    "### Hypothesis Test for the Lady Tasting Tea Experiment.\n",
    "\n",
    "#### Hypotheses:\n",
    "- **Null Hypothesis (H₀)**: The person does not have the ability to distinguish whether milk or tea was added first. If they’re just guessing, any correct answers would be due to pure chance.\n",
    "- **Alternative Hypothesis (H₁)**: The person does have the ability to distinguish whether milk or tea was added first. They would perform better than random guessing.\n",
    "\n",
    "#### Calculations:\n",
    "In this hypothesis testing, I am setting a significance level (5%, or α=0.05) to decide when to reject the null hypothesis.\n",
    "\n",
    "1. **Probability of selecting all 6 cups correctly (P = 1 / C(12, 6))**: This represents the chance of a correct selection if the person is merely guessing. This probability is very low (around 0.1%), indicating that the chance of correctly identifying all 6 cups purely by guessing is quite unlikely.\n",
    "\n",
    "2. **Probability of selecting exactly 5 cups correctly (P = C(6, 5) * C(6, 1) / C(12, 6))**: This is the probability of getting exactly 5 correct guesses and 1 incorrect guess. \n",
    "This probability is also relatively low, approximately 3.9%. If the person guesses exactly 5 cups correctly, it’s still unlikely under random guessing. Achieving exactly 5 correct selections by guessing could happen by chance, but it would still lean toward rejecting the null hypothesis\n",
    "\n",
    "3. **Probability of getting at least 5 correct guesses**: This is the sum of the probabilities of getting 6 correct and exactly 5 correct, representing the event where the person makes at most one error.\n",
    "This combined probability is around 4%, it’s low enough to suggest that achieving at least 5 correct selections purely by guessing is unlikely.\n",
    "If the person achieves at least 5 correct, it would give us reason to reject the null hypothesis and suggest that the person may indeed have a special ability to distinguish between the cups.\n",
    "\n",
    "#### Conclusion:\n",
    "Given the low probability of achieving at least 5 correct selections under the null hypothesis (0.04004 or 4%), we would consider rejecting the null hypothesis if the person correctly identifies at least 5 cups. This suggests that the person’s performance is unlikely to be due to random guessing, implying some ability to distinguish between the tea-first and milk-first cups.\n"
   ]
  },
  {
   "cell_type": "markdown",
   "metadata": {},
   "source": [
    "### References.\n",
    "1. https://docs.python.org/3/library/math.html#math.comb\n",
    "2. https://docs.python.org/3/library/math.html#math.factorial\n",
    "3. https://docs.python.org/3/library/itertools.html#itertools.combinations\n",
    "4. https://en.wikipedia.org/wiki/Statistical_hypothesis_test"
   ]
  },
  {
   "cell_type": "markdown",
   "metadata": {},
   "source": [
    "### Task 2: Numpy's Normal Distribution\n",
    "In this task you will assess whether numpy.random.normal() properly generates normal values. To begin, generate a sample of one hundred thousand values using the function with mean 10.0 and standard deviation 3.0.\n",
    "\n",
    "Use the scipy.stats.shapiro() function to test whether your sample came from a normal distribution. Explain the results and output.\n",
    "\n",
    "Plot a histogram of your values and plot the corresponding normal distribution probability density function on top of it."
   ]
  },
  {
   "cell_type": "markdown",
   "metadata": {},
   "source": [
    "### Generate a sample.\n",
    "\n",
    "The first step in this case is to generate one hundred thousand values from a normal distribution with a mean of 10.0 and standard deviation of 3.0. I will need to use numpy.random.normal() to do this."
   ]
  },
  {
   "cell_type": "code",
   "execution_count": 17,
   "metadata": {},
   "outputs": [
    {
     "data": {
      "text/plain": [
       "array([10.22079649, 11.29159833, 17.20882719, ...,  7.53975155,\n",
       "        9.78696811,  4.97032076])"
      ]
     },
     "execution_count": 17,
     "metadata": {},
     "output_type": "execute_result"
    }
   ],
   "source": [
    "# Generate a sample.\n",
    "\n",
    "mean = 10.0\n",
    "std_dev = 3.0\n",
    "sample_size = 100000\n",
    "\n",
    "# Generate 100k random values from a normal distribution.\n",
    "\n",
    "sample = np.random.normal(loc=mean, scale=std_dev, size=sample_size)\n",
    "\n",
    "# Show.\n",
    "sample"
   ]
  },
  {
   "cell_type": "markdown",
   "metadata": {},
   "source": [
    "### Shapiro-Wilk Test.\n",
    "\n",
    "This test checks whether the generated sample follows a Normal Distribution. The p-value will determine if we can reject the null hypothesis of normality. The test statistic W is computed using the following formula:\n",
    "\n",
    "$$\n",
    "W = \\frac{\\left( \\sum_{i=1}^{n} a_i x_{(i)} \\right)^2}{\\sum_{i=1}^{n} (x_i - \\bar{x})^2}\n",
    "$$\n",
    "\n",
    "where:\n",
    "- \\( W \\): Shapiro-Wilk test statistic.\n",
    "- \\( x_{(i)} \\): Ordered sample values (sorted from smallest to largest).\n",
    "- \\( \\bar{x} \\): Sample mean.\n",
    "- \\( a_i \\): Weights calculated from expected values of the order statistics of a sample from a normal distribution.\n",
    "- \\( n \\): Sample size.\n",
    "\n",
    "A low value of W (close to 0) suggests that the sample is not normally distributed.\n",
    "A high value of W (close to 1) suggests the sample data is normally distributed.\n",
    "\n",
    "The p-value will determine if you can reject the null hypothesis of normality.\n",
    "\n",
    "- If **p_value < 0.05**, it suggests that the data is not normally distributed, which would be unexpected given you generated the data from a normal distribution.\n",
    "- If **p_value >= 0.05**, it suggests that the sample data is likely normally distributed."
   ]
  },
  {
   "cell_type": "code",
   "execution_count": 18,
   "metadata": {},
   "outputs": [
    {
     "name": "stdout",
     "output_type": "stream",
     "text": [
      "Shapiro-Wilk Test Statistic: 0.9997496943509782\n",
      "p-value: 0.8458617368618877\n",
      "The null hypothesis of normality is not rejected (data is normal).\n"
     ]
    }
   ],
   "source": [
    "# Perform the Shapiro-Wilk test for normality.\n",
    "shapiro_stat, p_value = stats.shapiro(sample[:5000])  # Subset of data (Shapiro is sensitive to large sizes).\n",
    "\n",
    "# Output test result.\n",
    "print(f\"Shapiro-Wilk Test Statistic: {shapiro_stat}\")\n",
    "print(f\"p-value: {p_value}\")\n",
    "if p_value < 0.05:\n",
    "    print(\"The null hypothesis of normality is rejected (data is not normal).\")\n",
    "else:\n",
    "    print(\"The null hypothesis of normality is not rejected (data is normal).\")\n"
   ]
  },
  {
   "cell_type": "markdown",
   "metadata": {},
   "source": [
    "### Histogram and Probability Density Function Plot.\n",
    "\n",
    "The histogram provides a visual representation of the distribution of the sample values.\n",
    "The Probability Density Function of a normal distribution with mean = 10 and std_dev = 3 is plotted to check visually if the generated data fits the expected normal distribution."
   ]
  },
  {
   "cell_type": "code",
   "execution_count": 19,
   "metadata": {},
   "outputs": [
    {
     "data": {
      "image/png": "[encoded data removed]",
      "text/plain": [
       "<Figure size 640x480 with 1 Axes>"
      ]
     },
     "metadata": {},
     "output_type": "display_data"
    }
   ],
   "source": [
    "# Plot a histogram and the normal distribution.\n",
    "\n",
    "# Plot the histogram of the sample.\n",
    "plt.hist(sample, bins=50, density=True, alpha=0.6, color='b')\n",
    "\n",
    "# Define the Probability Density Function of the normal distribution.\n",
    "xmin, xmax = plt.xlim()\n",
    "x = np.linspace(xmin, xmax, 1000)\n",
    "p = stats.norm.pdf(x, mean, std_dev)\n",
    "\n",
    "# Plot the Probability Density Function on top of the histogram.\n",
    "plt.plot(x, p, 'k', linewidth=2)\n",
    "title = \"Fit results: mean = %.2f,  std_dev = %.2f\" % (mean, std_dev)\n",
    "plt.title(title)\n",
    "\n",
    "# Show plot\n",
    "plt.show()"
   ]
  },
  {
   "cell_type": "markdown",
   "metadata": {},
   "source": [
    "### References.\n",
    "1. https://en.wikipedia.org/wiki/Shapiro%E2%80%93Wilk_test\n",
    "2. https://docs.scipy.org/doc/scipy/reference/generated/scipy.stats.norm.html\n",
    "3. https://numpy.org/devdocs/reference/generated/numpy.linspace.html"
   ]
  },
  {
   "cell_type": "markdown",
   "metadata": {},
   "source": [
    "### Task 3: t-Test Calculation\n",
    "Consider the following dataset containing resting heart rates for patients before and after embarking on a two-week exercise program.\n",
    "\n",
    "| Patient ID | 0  | 1  | 2  | 3  | 4  | 5  | 6  | 7  | 8  | 9  |\n",
    "|------------|----|----|----|----|----|----|----|----|----|----|\n",
    "| Before     | 63 | 68 | 70 | 64 | 74 | 67 | 70 | 57 | 66 | 65 |\n",
    "| After      | 64 | 64 | 68 | 64 | 73 | 70 | 72 | 54 | 61 | 63 |\n",
    "\n",
    "Calculate the t-statistic based on this data set, using Python. Compare it to the value given by scipy.stats. Explain your work and list any sources used."
   ]
  },
  {
   "cell_type": "markdown",
   "metadata": {},
   "source": [
    "### What is the t-Test Statistic?\n",
    "\n",
    "The t-Test Statistic is a measure used in statistical hypothesis testing to determine whether there is a significant difference between the means of two groups or conditions. Specifically, the paired t-Test checks whether the mean between paired observations (e.g., before and after measurements) is significantly different from zero.\n",
    "\n",
    "### How does the t-Test work?\n",
    "\n",
    "1. #### Hypothesis\n",
    "- Null Hypothesis (H0): The mean difference between the paired samples is zero ($\\mu_d = 0$).\n",
    "- Alternative Hypothesis (𝐻𝑎): The mean difference is not zero ($H_a: \\mu_d \\neq 0$)\n",
    "\n",
    "2. #### Formula for the t-Test statistic.\n",
    "The t-Test statistic is calculated using the formula:\n",
    "\n",
    "$t = \\frac{\\bar{d}}{s_d / \\sqrt{n}}$\n",
    "\n",
    "Where:\n",
    "- ${\\bar{d}}$: Mean of the differences between paired samples.\n",
    "- ${s_d}$ : Sample standard deviation of the differences.\n",
    "- ${n}$ : Number of paired observations.\n",
    "\n",
    "3. #### Distribution\n",
    "- The t-Test statistic follows a t-distribution with ${n-1}$ degrees of freedom ${df = {n-1}}$ when the null hypothesis is true.\n",
    "- The shape of the t-distribution depends on the sample size:\n",
    "    - For small samples ${n<30}$, it is wider and has heavier tails than the normal distribution.\n",
    "    - For large samples, it approaches the normal distribution.\n",
    "\n",
    "4. #### P-value\n",
    "- The p-value is the probability of observing a t-statistic as extreme as the calculated one if the null hypothesis is true.\n",
    "- A small p-value (e.g.,${p<0.05}$) suggests rejecting the null hypothesis, indicating a significant difference.\n",
    "\n",
    "### Defining the data and Resolution.\n",
    "In the specific case of this task, we have the following data:\n",
    "\n",
    "- The 'before' and 'after' variables are arrays representing the resting heart rates of ten patients before and after the exercise program.\n",
    "- These values are paired because each 'before' corresponds to the same patient as the respective 'after'."
   ]
  },
  {
   "cell_type": "code",
   "execution_count": 20,
   "metadata": {},
   "outputs": [],
   "source": [
    "# Data from the exercise\n",
    "before = np.array([63, 68, 70, 64, 74, 67, 70, 57, 66, 65])\n",
    "after = np.array([64, 64, 68, 64, 73, 70, 72, 54, 61, 63])"
   ]
  },
  {
   "cell_type": "code",
   "execution_count": 21,
   "metadata": {},
   "outputs": [
    {
     "name": "stdout",
     "output_type": "stream",
     "text": [
      "1.3372274824806283\n"
     ]
    }
   ],
   "source": [
    "# Calculation of the t-statistic\n",
    "\n",
    "differences = before - after\n",
    "n = len(differences) # Number of patients\n",
    "mean_diff = np.mean(differences) # Mean of the differences\n",
    "std_diff = np.std(differences, ddof=1) # Sample standard deviation of the differences\n",
    "t_statistic = mean_diff / (std_diff / np.sqrt(n)) # t-statistic formula\n",
    "\n",
    "print (t_statistic)"
   ]
  },
  {
   "cell_type": "code",
   "execution_count": 22,
   "metadata": {},
   "outputs": [
    {
     "name": "stdout",
     "output_type": "stream",
     "text": [
      "T-statistic (manual): 1.3372\n",
      "T-statistic (scipy): 1.3372\n",
      "P-value (scipy): 0.2140\n"
     ]
    }
   ],
   "source": [
    "# Comparison with scipy\n",
    "t_statistic_scipy, p_value = ttest_rel(before, after)\n",
    "\n",
    "# Display results\n",
    "print(f\"T-statistic (manual): {t_statistic:.4f}\")\n",
    "print(f\"T-statistic (scipy): {t_statistic_scipy:.4f}\")\n",
    "print(f\"P-value (scipy): {p_value:.4f}\")"
   ]
  },
  {
   "cell_type": "markdown",
   "metadata": {},
   "source": [
    "### Results and Interpretation.\n",
    "- The t-statistic of 1.3372 suggests that the mean difference between \"before\" and \"after\" is 1.3372 standard errors away from zero.\n",
    "This is a relatively small value, meaning the evidence against the null hypothesis is weak.\n",
    "\n",
    "- The p-value of 0.2140 is greater than the typical significance level (${α=0.05}$).\n",
    "There is insufficient evidence to reject the null hypothesis ($\\mu_d = 0$).\n",
    "\n",
    "The exercise program does not show a statistically significant effect on resting heart rates at the 5% significance level. While the difference is not statistically significant, it does not rule out the possibility of an effect. Further studies with a larger sample size may be needed to detect smaller effects."
   ]
  },
  {
   "cell_type": "markdown",
   "metadata": {},
   "source": [
    "### Plots\n",
    "- A Box plot shows how the data is distributed and compares the spread and median of the \"before\" and \"after\" data.\n",
    "We can see that after the exercise program, the resting heart rates of the patients were slightly lower. Fifty percent of the patients were between 54 and 63 heart rates. Whereas the same percentage of patients were between 57 and 67 beats per minute before the exercise program.\n",
    "\n",
    "- In the histogram and Strip Plot, we can see something very similar to what was explained above. The range of heart rates among the patients after the exercise program is slightly smaller. We can also see that the highest percentage of patients before the exercise programme were between 64 and 71 heart rates; however, after the exercise programme, the majority of patients were between 62 and 66 heart rates, although there is also a large group between 69 and 73 heart rates."
   ]
  },
  {
   "cell_type": "code",
   "execution_count": 23,
   "metadata": {},
   "outputs": [
    {
     "data": {
      "image/png": "[encoded data removed]",
      "text/plain": [
       "<Figure size 640x480 with 1 Axes>"
      ]
     },
     "metadata": {},
     "output_type": "display_data"
    }
   ],
   "source": [
    "# Create a box plot to compare distributions\n",
    "data = {\"Before\": before, \"After\": after}\n",
    "sns.boxplot(data=list(data.values()), palette=\"pastel\")\n",
    "plt.xticks([0, 1], list(data.keys()))  # Set x-axis labels\n",
    "plt.title(\"Box Plot: Resting Heart Rates Before vs After\")\n",
    "plt.ylabel(\"Heart Rate (bpm)\")\n",
    "plt.show()"
   ]
  },
  {
   "cell_type": "code",
   "execution_count": 24,
   "metadata": {},
   "outputs": [
    {
     "data": {
      "image/png": "[encoded data removed]",
      "text/plain": [
       "<Figure size 800x500 with 1 Axes>"
      ]
     },
     "metadata": {},
     "output_type": "display_data"
    }
   ],
   "source": [
    "# Plot histogram for both \"before\" and \"after\" data\n",
    "plt.figure(figsize=(8, 5))\n",
    "\n",
    "# Plot histograms\n",
    "plt.hist(before, bins=5, alpha=0.6, label=\"Before\", color=\"blue\", edgecolor=\"black\")\n",
    "plt.hist(after, bins=5, alpha=0.6, label=\"After\", color=\"green\", edgecolor=\"black\")\n",
    "\n",
    "# Add title and labels\n",
    "plt.title(\"Histogram: Resting Heart Rates (Before vs After)\")\n",
    "plt.xlabel(\"Heart Rate (bpm)\")\n",
    "plt.ylabel(\"Frequency\")\n",
    "plt.legend()  # Add a legend to differentiate groups\n",
    "plt.grid(axis='y', alpha=0.7)\n",
    "plt.show()\n"
   ]
  },
  {
   "cell_type": "code",
   "execution_count": 25,
   "metadata": {},
   "outputs": [
    {
     "name": "stderr",
     "output_type": "stream",
     "text": [
      "/var/folders/hl/jjlv87wn3_g7gv30rt7nps280000gn/T/ipykernel_4999/2122043260.py:9: FutureWarning: Passing `palette` without assigning `hue` is deprecated.\n",
      "  sns.stripplot(x=\"Group\", y=\"Heart Rate\", data=data, jitter=True, palette=\"Set2\", size=8)\n"
     ]
    },
    {
     "data": {
      "image/png": "[encoded data removed]",
      "text/plain": [
       "<Figure size 800x500 with 1 Axes>"
      ]
     },
     "metadata": {},
     "output_type": "display_data"
    }
   ],
   "source": [
    "# Combine data into a single structure\n",
    "data = {\n",
    "    \"Group\": [\"Before\"] * len(before) + [\"After\"] * len(after),\n",
    "    \"Heart Rate\": np.concatenate([before, after])\n",
    "}\n",
    "\n",
    "# Create a strip plot\n",
    "plt.figure(figsize=(8, 5))\n",
    "sns.stripplot(x=\"Group\", y=\"Heart Rate\", data=data, jitter=True, palette=\"Set2\", size=8)\n",
    "\n",
    "# Add title and labels\n",
    "plt.title(\"Strip Plot: Resting Heart Rates (Before vs After)\")\n",
    "plt.ylabel(\"Heart Rate (bpm)\")\n",
    "plt.xlabel(\"Group\")\n",
    "plt.grid(axis='y', linestyle='--', alpha=0.7)\n",
    "plt.show()"
   ]
  },
  {
   "cell_type": "markdown",
   "metadata": {},
   "source": [
    "### References\n",
    "\n",
    "1. https://datatab.net/tutorial/t-test\n",
    "2. https://docs.scipy.org/doc/scipy/reference/generated/scipy.stats.ttest_ind.html#ttest-ind\n",
    "3. https://seaborn.pydata.org/generated/seaborn.boxplot.html\n",
    "4. https://seaborn.pydata.org/generated/seaborn.histplot.html\n",
    "5. https://seaborn.pydata.org/generated/seaborn.stripplot.html"
   ]
  },
  {
   "cell_type": "markdown",
   "metadata": {},
   "source": [
    "### Task 4: ANOVA\n",
    "In this test I will estimate the probability of committing a type II error in specific circumstances.\n",
    "To begin, I should create a variable called `no_type_ii` and set it to `0`.\n",
    "\n",
    "Then I will use a loop to perform the following test 10,000 times.\n",
    "\n",
    "1. Use `numpy.random.normal` to generate three samples with 100 values each. Give each a standard deviation of `0.1`. Give the first sample a mean of `4.9`, the second a mean of `5.0`, and the third a mean of `5.1`. \n",
    "\n",
    "2. Perform one-way anova on the three samples and add `1` to `no_type_ii` whenever a type II error occurs.\n",
    "\n",
    "Summarize and explain the results."
   ]
  },
  {
   "cell_type": "markdown",
   "metadata": {},
   "source": [
    "### What ANOVA is?\n",
    "ANOVA (Analysis of Variance) is a statistical method used to determine whether there are statistically significant differences between the means of three or more independent groups.\n",
    "\n",
    "#### Key Components of ANOVA.\n",
    "1. **Groups:** ANOVA compares multiple groups (e.g., different samples, treatments, or categories).\n",
    "2. **Null Hypothesis $(H0)$:** All group means are equal.\n",
    "    - $H_0: \\mu_1 = \\mu_2 = \\mu_3 = \\ldots$\n",
    "    - ANOVA tests whether any differences are due to random variability.\n",
    "3. **Alternative Hypothesis $(𝐻𝑎)$:** At least one group mean is different from the others.\n",
    "    - Between-group variance: Differences due to the group means.\n",
    "    - Within-group variance: Variability within each group.\n"
   ]
  },
  {
   "cell_type": "markdown",
   "metadata": {},
   "source": [
    "### ANOVA Implementation.\n",
    "This task is about simulating the Type II error rate in an ANOVA test under specific conditions. A Type II error occurs when we fail to reject the null hypothesis even though it is false. Here, I'll perform a one-way ANOVA on three groups to check whether their means are significantly different. These are the steps to follow:\n",
    "\n",
    "1. Set Up Initial Variables: Create a variable `no_type_ii` and set it to `0`.\n",
    "2. Simulation Loop:\n",
    "    - I will use `numpy.random.normal` to generate three samples:\n",
    "        - Sample 1: Mean = 4.9, SD = 0.1, Size = 100\n",
    "        - Sample 2: Mean = 5.0, SD = 0.1, Size = 100\n",
    "        - Sample 3: Mean = 5.1, SD = 0.1, Size = 100"
   ]
  },
  {
   "cell_type": "code",
   "execution_count": 26,
   "metadata": {},
   "outputs": [],
   "source": [
    "# Initialize variable.\n",
    "no_type_ii = 0\n",
    "iterations = 10000\n",
    "\n",
    "# Simulation loop\n",
    "for _ in range(iterations):\n",
    "    # Generate three samples\n",
    "    sample1 = np.random.normal(loc=4.9, scale=0.1, size=100)\n",
    "    sample2 = np.random.normal(loc=5.0, scale=0.1, size=100)\n",
    "    sample3 = np.random.normal(loc=5.1, scale=0.1, size=100)"
   ]
  },
  {
   "cell_type": "code",
   "execution_count": null,
   "metadata": {},
   "outputs": [],
   "source": []
  }
 ],
 "metadata": {
  "kernelspec": {
   "display_name": "base",
   "language": "python",
   "name": "python3"
  },
  "language_info": {
   "codemirror_mode": {
    "name": "ipython",
    "version": 3
   },
   "file_extension": ".py",
   "mimetype": "text/x-python",
   "name": "python",
   "nbconvert_exporter": "python",
   "pygments_lexer": "ipython3",
   "version": "3.9.19"
  }
 },
 "nbformat": 4,
 "nbformat_minor": 2
}
