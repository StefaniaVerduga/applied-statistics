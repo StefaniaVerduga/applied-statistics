{
 "cells": [
  {
   "cell_type": "markdown",
   "metadata": {},
   "source": [
    "## Programming for Data Analysis\n",
    "**Course: HDip in Computing in Data Analytics**  \n",
    "**Module: Applied Statistics**  \n",
    "**Author: Stefania Verduga**  \n",
    "\n",
    "***"
   ]
  },
  {
   "cell_type": "markdown",
   "metadata": {},
   "source": [
    "## Table of Contents\n",
    "1. Introduction\n",
    "    - 1.1. Description of the Project\n",
    "    - 1.2. Objectives of the Project\n",
    "    - 1.3. Technology and Libraries used for this project\n",
    "2. T-Test Statistic\n",
    "3. ANOVA\n",
    "4. Analysis\n",
    "5. Conclusion\n",
    "6. References\n",
    "***"
   ]
  },
  {
   "cell_type": "markdown",
   "metadata": {},
   "source": [
    "## 1. Introduction\n",
    "\n",
    "**1.1. Description of the Project**\n",
    "The purpose of this project is to analyze the PlantGrowth R dataset[01]. The PlantGrowth data are the results from an experiment to compare yields (as measured by dried weight of plants) obtained under a control and two different treatment conditions. This dataset contains two main variables, a treatment group and the weight of plants within those groups. \n",
    "\n",
    "In order to analze this dataset, I will follow the following steps:\n",
    "1. Download and save the dataset to the repository.\n",
    "2. Describe the data set in the notebook.\n",
    "3. Describe what a t-test is, how it works, and what the assumptions are.\n",
    "4. Perform a t-test to determine whether there is a significant difference between the two treatment groups `trt1` and `trt2`.\n",
    "5. Perform ANOVA to determine whether there is a significant difference between the three treatment groups `ctrl`, `trt1` and `trt2`.\n",
    "6. Explain why it is more appropriate to apply ANOVA rather than several t-tests when analyzing more than two groups.\n",
    "\n",
    "**1.2. Objectives of the Project**\n",
    "The aim of this project is to carry out a statistical analysis using the t-Stadistic and ANOVA to determine the degree of effect on plant growth of the control treatment or two different treatments conditions. \n",
    "\n",
    "The database consists of 30 cases on 2 variables `weight` and `group`.\n",
    "The levels of group are `ctrl`, `trt1` and `trt2`.\n",
    "\n",
    "**1.3. Technology and Libraries used for this project**\n",
    "This project was developed using Python [02] and the following packages:\n",
    "\n",
    "- **Pandas**: Used to perform data manipulation and analysis. Pandas is a Python library for data analysis. It is built on top of two core Python libraries—matplotlib for data visualization and NumPy for mathematical operations. Pandas acts as a wrapper over these libraries, allowing you to access many of matplotlib's and NumPy's methods with less code. [03]\n",
    "- **Numpy**: Used to perform a wide variety of mathematical operations on arrays. NumPy is the fundamental package for scientific computing in Python. It is a Python library that provides a multidimensional array object, various derived objects (such as masked arrays and matrices), and an assortment of routines for fast operations on arrays, including mathematical, logical, shape manipulation. [04]\n",
    "- **Matplotlib**: Used for data visualization and graphical ploting. Matplotlib is a comprehensive library for creating static, animated, and interactive visualizations in Python. [05]\n",
    "- **Seaborn**: Built on top of matplotlib with similar functionalities. Seaborn is a Python data visualization library based on matplotlib. It provides a high-level interface for drawing attractive and informative statistical graphics. [06]\n",
    "- **Scipy**: Is an open-source Python library which is used to solve scientific and mathematical problems. SciPy provides algorithms for optimization, integration, algebraic equations, differential equations, statistics and many other classes of problems. [07]\n",
    "***"
   ]
  },
  {
   "cell_type": "markdown",
   "metadata": {},
   "source": [
    "## 2. T-Test Statistic.\n",
    "The t-Test Statistic is a measure used in statistical hypothesis testing to determine whether there is a significant difference between the means of two groups or conditions. Specifically, the paired t-Test checks whether the mean between paired observations (e.g., before and after measurements) is significantly different from zero. It is often used to determine whether a process or treatment actually has an effect on the population of interest [08].\n",
    "\n",
    "### How does the t-Test work?\n",
    "The t-Test estimates de difference between two group means, using the ratio of the difference in group means over the pooled standard error of both groups. We can calculate this using the t-test formula.\n",
    "\n",
    "1. #### Formula for the t-Test statistic.\n",
    "The t-Test statistic is calculated using the formula:\n",
    "\n",
    "$t = \\frac{\\bar{d}}{s_d / \\sqrt{n}}$\n",
    "\n",
    "Where:\n",
    "- ${\\bar{d}}$: Mean of the differences between paired samples.\n",
    "- ${s_d}$ : Sample standard deviation of the differences.\n",
    "- ${n}$ : Number of paired observations.\n",
    "\n",
    "A larger $t$ value shows that the difference between group means is greater than the pooled standard error, indicating a more significant difference between the groups.\n",
    "\n",
    "2. #### Hypothesis\n",
    "In the sample t-test, the null hypothesis and the alternative hypothesis are:\n",
    "- Null Hypothesis ($H_0$): The mean difference between the paired samples is zero ($\\mu_d = 0$).\n",
    "- Alternative Hypothesis (𝐻𝑎): The mean difference is not zero ($H_a: \\mu_d \\neq 0$)\n",
    "\n",
    "3. #### Distribution\n",
    "- The t-Test statistic follows a t-distribution with ${n-1}$ degrees of freedom ${df = {n-1}}$ when the null hypothesis is true.\n",
    "- The shape of the t-distribution depends on the sample size:\n",
    "    - For small samples ${n<30}$, it is wider and has heavier tails than the normal distribution.\n",
    "    - For large samples, it approaches the normal distribution.\n",
    "\n",
    "4. #### P-value\n",
    "- The p-value is the probability of observing a t-statistic as extreme as the calculated one if the null hypothesis is true.\n",
    "- A small p-value (e.g.,${p<0.05}$) suggests rejecting the null hypothesis, indicating a significant difference."
   ]
  },
  {
   "cell_type": "code",
   "execution_count": 1,
   "metadata": {},
   "outputs": [],
   "source": [
    "# Imports.\n",
    "import pandas as pd\n",
    "import numpy as np\n",
    "import matplotlib.pyplot as plt\n",
    "import seaborn as sns\n",
    "import scipy.stats as stats"
   ]
  },
  {
   "cell_type": "code",
   "execution_count": 2,
   "metadata": {},
   "outputs": [
    {
     "name": "stdout",
     "output_type": "stream",
     "text": [
      "<class 'pandas.core.frame.DataFrame'>\n",
      "RangeIndex: 30 entries, 0 to 29\n",
      "Data columns (total 3 columns):\n",
      " #   Column    Non-Null Count  Dtype  \n",
      "---  ------    --------------  -----  \n",
      " 0   rownames  30 non-null     int64  \n",
      " 1   weight    30 non-null     float64\n",
      " 2   group     30 non-null     object \n",
      "dtypes: float64(1), int64(1), object(1)\n",
      "memory usage: 848.0+ bytes\n",
      "   rownames  weight group\n",
      "0         1    4.17  ctrl\n",
      "1         2    5.58  ctrl\n",
      "2         3    5.18  ctrl\n",
      "3         4    6.11  ctrl\n",
      "4         5    4.50  ctrl\n",
      "        rownames     weight\n",
      "count  30.000000  30.000000\n",
      "mean   15.500000   5.073000\n",
      "std     8.803408   0.701192\n",
      "min     1.000000   3.590000\n",
      "25%     8.250000   4.550000\n",
      "50%    15.500000   5.155000\n",
      "75%    22.750000   5.530000\n",
      "max    30.000000   6.310000\n"
     ]
    }
   ],
   "source": [
    "# Load the dataset.\n",
    "file_path = '/Users/stefania/Applied Statistics/applied-statistics/PlantGrowth.csv'\n",
    "data = pd.read_csv(file_path)\n",
    "\n",
    "# Initial exploration\n",
    "data.info()\n",
    "print(data.head())\n",
    "print(data.describe())"
   ]
  },
  {
   "cell_type": "markdown",
   "metadata": {},
   "source": [
    "## 6. References\n",
    "[01] [Dobson, A. J. (1983) An Introduction to Statistical Modelling. London: Chapman and Hall.] (https://vincentarelbundock.github.io/Rdatasets/articles/data.html)  \n",
    "[02] [Python Software Foundation. Python. (2024).] (https://www.python.org/)  \n",
    "[03] [Pandas via NumFOCUS. Pandas. (2024).] (https://pandas.pydata.org/)  \n",
    "[04] [NumPy team. Numpy. (2024).] (https://numpy.org/) \n",
    "[05] [Matplotlib development team. Matplotlib: Visualization with Python. (2012 - 2024).] (https://matplotlib.org/)  \n",
    "[06] [Seaborn Development Team. Seaborn: Statistical Data Visualization. (2012 - 2024).] (https://seaborn.pydata.org/)  \n",
    "[07] [The SciPy community. SciPy: Fundamental algorithms for scientific computing in Python. (2008 - 2024)] (https://docs.scipy.org/doc/scipy/index.html)  \n",
    "[08] [Scribbr. An Introduction to t Tests. (2024)] (https://www.scribbr.com/statistics/t-test/)"
   ]
  },
  {
   "cell_type": "markdown",
   "metadata": {},
   "source": []
  }
 ],
 "metadata": {
  "kernelspec": {
   "display_name": "base",
   "language": "python",
   "name": "python3"
  },
  "language_info": {
   "codemirror_mode": {
    "name": "ipython",
    "version": 3
   },
   "file_extension": ".py",
   "mimetype": "text/x-python",
   "name": "python",
   "nbconvert_exporter": "python",
   "pygments_lexer": "ipython3",
   "version": "3.9.19"
  }
 },
 "nbformat": 4,
 "nbformat_minor": 2
}
