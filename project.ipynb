{
 "cells": [
  {
   "cell_type": "markdown",
   "metadata": {},
   "source": [
    "## Programming for Data Analysis\n",
    "**Course: HDip in Computing in Data Analytics**  \n",
    "**Module: Applied Statistics**  \n",
    "**Author: Stefania Verduga**  \n",
    "\n",
    "***"
   ]
  },
  {
   "cell_type": "markdown",
   "metadata": {},
   "source": [
    "### Table of Contents\n",
    "1. Introduction\n",
    "    - 1.1. Description of the Project\n",
    "    - 1.2. Objectives of the Project\n",
    "    - 1.3. Technology and Libraries used for this project\n",
    "2. Analysis\n",
    "3. Conclusion\n",
    "4. References\n",
    "***"
   ]
  },
  {
   "cell_type": "markdown",
   "metadata": {},
   "source": [
    "## 1. Description\n",
    "\n",
    "**1.1. Description of the Project**\n",
    "The purpose of this project is to analyze the PlantGrowth R dataset. This dataset contains two main variables, a treatment group and the weight of plants within those groups. The main goal is to perform t-tests and ANOVA on this dataset.\n",
    "\n",
    "In order to achieve this goal, I will follow the following steps:\n",
    "1. Download and save the dataset to the repository.\n",
    "2. Describe the data set in the notebook.\n",
    "3. Describe what a t-test is, how it works, and what the assumptions are.\n",
    "4. Perform a t-test to determine whether there is a significant difference between the two treatment groups `trt1` and `trt2`.\n",
    "5. Perform ANOVA to determine whether there is a significant difference between the three treatment groups `ctrl`, `trt1` and `trt2`.\n",
    "6. Explain why it is more appropriate to apply ANOVA rather than several t-tests when analyzing more than two groups."
   ]
  },
  {
   "cell_type": "markdown",
   "metadata": {},
   "source": []
  }
 ],
 "metadata": {
  "language_info": {
   "name": "python"
  }
 },
 "nbformat": 4,
 "nbformat_minor": 2
}
