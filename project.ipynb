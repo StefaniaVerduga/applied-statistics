{
 "cells": [
  {
   "cell_type": "markdown",
   "metadata": {},
   "source": [
    "## Programming for Data Analysis\n",
    "**Course: HDip in Computing in Data Analytics**  \n",
    "**Module: Applied Statistics**  \n",
    "**Author: Stefania Verduga**  \n",
    "\n",
    "***"
   ]
  },
  {
   "cell_type": "markdown",
   "metadata": {},
   "source": [
    "## Table of Contents\n",
    "1. Introduction\n",
    "    - 1.1. Description of the Project\n",
    "    - 1.2. Objectives of the Project\n",
    "    - 1.3. Technology and Libraries used for this project\n",
    "2. T-Test Statistic\n",
    "    - 2.1 Formula for the t-Test statistic\n",
    "    - 2.2 Hypothesis\n",
    "    - 2.3 Distribution\n",
    "    - 2.4 P-value\n",
    "3. ANOVA\n",
    "    - 3.1 Type of tests\n",
    "    - 3.2 Key Components of ANOVA\n",
    "    - 3.3 How does an ANOVA test work?\n",
    "4. Analysis\n",
    "5. Conclusion\n",
    "6. References\n",
    "***"
   ]
  },
  {
   "cell_type": "markdown",
   "metadata": {},
   "source": [
    "## 1. Introduction\n",
    "\n",
    "**1.1. Description of the Project.**  \n",
    "\n",
    "The purpose of this project is to analyze the PlantGrowth R dataset[01]. The PlantGrowth data are the results from an experiment to compare yields (as measured by dried weight of plants) obtained under a control and two different treatment conditions. This dataset contains two main variables, a treatment group and the weight of plants within those groups. \n",
    "\n",
    "In order to analze this dataset, I will follow the following steps:\n",
    "1. Download and save the dataset to the repository.\n",
    "2. Describe the data set in the notebook.\n",
    "3. Describe what a t-test is, how it works, and what the assumptions are.\n",
    "4. Perform a t-test to determine whether there is a significant difference between the two treatment groups `trt1` and `trt2`.\n",
    "5. Perform ANOVA to determine whether there is a significant difference between the three treatment groups `ctrl`, `trt1` and `trt2`.\n",
    "6. Explain why it is more appropriate to apply ANOVA rather than several t-tests when analyzing more than two groups.\n",
    "\n",
    "**1.2. Objectives of the Project.**  \n",
    "\n",
    "The aim of this project is to carry out a statistical analysis using the t-Stadistic and ANOVA to determine the degree of effect on plant growth of the control treatment or two different treatments conditions. \n",
    "\n",
    "The database consists of 30 cases on 2 variables `weight` and `group`.\n",
    "The levels of group are `ctrl`, `trt1` and `trt2`.\n",
    "\n",
    "**1.3. Technology and Libraries used for this project.**  \n",
    "\n",
    "This project was developed using Python [02] and the following packages:\n",
    "\n",
    "- **Pandas**: Used to perform data manipulation and analysis. Pandas is a Python library for data analysis. It is built on top of two core Python libraries—matplotlib for data visualization and NumPy for mathematical operations. Pandas acts as a wrapper over these libraries, allowing you to access many of matplotlib's and NumPy's methods with less code. [03]\n",
    "- **Numpy**: Used to perform a wide variety of mathematical operations on arrays. NumPy is the fundamental package for scientific computing in Python. It is a Python library that provides a multidimensional array object, various derived objects (such as masked arrays and matrices), and an assortment of routines for fast operations on arrays, including mathematical, logical, shape manipulation. [04]\n",
    "- **Matplotlib**: Used for data visualization and graphical ploting. Matplotlib is a comprehensive library for creating static, animated, and interactive visualizations in Python. [05]\n",
    "- **Seaborn**: Built on top of matplotlib with similar functionalities. Seaborn is a Python data visualization library based on matplotlib. It provides a high-level interface for drawing attractive and informative statistical graphics. [06]\n",
    "- **Scipy**: Is an open-source Python library which is used to solve scientific and mathematical problems. SciPy provides algorithms for optimization, integration, algebraic equations, differential equations, statistics and many other classes of problems. [07]\n",
    "***"
   ]
  },
  {
   "cell_type": "code",
   "execution_count": 1,
   "metadata": {},
   "outputs": [],
   "source": [
    "# Imports.\n",
    "import pandas as pd\n",
    "import numpy as np\n",
    "import matplotlib.pyplot as plt\n",
    "import seaborn as sns\n",
    "import scipy.stats as stats"
   ]
  },
  {
   "cell_type": "code",
   "execution_count": 2,
   "metadata": {},
   "outputs": [
    {
     "name": "stdout",
     "output_type": "stream",
     "text": [
      "<class 'pandas.core.frame.DataFrame'>\n",
      "RangeIndex: 30 entries, 0 to 29\n",
      "Data columns (total 3 columns):\n",
      " #   Column    Non-Null Count  Dtype  \n",
      "---  ------    --------------  -----  \n",
      " 0   rownames  30 non-null     int64  \n",
      " 1   weight    30 non-null     float64\n",
      " 2   group     30 non-null     object \n",
      "dtypes: float64(1), int64(1), object(1)\n",
      "memory usage: 848.0+ bytes\n",
      "   rownames  weight group\n",
      "0         1    4.17  ctrl\n",
      "1         2    5.58  ctrl\n",
      "2         3    5.18  ctrl\n",
      "3         4    6.11  ctrl\n",
      "4         5    4.50  ctrl\n",
      "        rownames     weight\n",
      "count  30.000000  30.000000\n",
      "mean   15.500000   5.073000\n",
      "std     8.803408   0.701192\n",
      "min     1.000000   3.590000\n",
      "25%     8.250000   4.550000\n",
      "50%    15.500000   5.155000\n",
      "75%    22.750000   5.530000\n",
      "max    30.000000   6.310000\n"
     ]
    }
   ],
   "source": [
    "# Load the dataset.\n",
    "file_path = '/Users/stefania/Applied Statistics/applied-statistics/PlantGrowth.csv'\n",
    "data = pd.read_csv(file_path)\n",
    "\n",
    "# Initial exploration\n",
    "data.info()\n",
    "print(data.head())\n",
    "print(data.describe())"
   ]
  },
  {
   "cell_type": "code",
   "execution_count": 3,
   "metadata": {},
   "outputs": [
    {
     "data": {
      "image/png": "[encoded data removed]",
      "text/plain": [
       "<Figure size 640x480 with 1 Axes>"
      ]
     },
     "metadata": {},
     "output_type": "display_data"
    }
   ],
   "source": [
    "# Data visualization\n",
    "sns.boxplot(x='group', y='weight', data=data)\n",
    "plt.title('Weight distribution by group')\n",
    "plt.show()"
   ]
  },
  {
   "cell_type": "markdown",
   "metadata": {},
   "source": [
    "## 2. T-Test Statistic.\n",
    "The t-Test Statistic is a measure used in statistical hypothesis testing to determine whether there is a significant difference between the means of two groups or conditions. Specifically, the paired t-Test checks whether the mean between paired observations (e.g., before and after measurements) is significantly different from zero. It is often used to determine whether a process or treatment actually has an effect on the population of interest [08].\n",
    "\n",
    "### How does the t-Test work?\n",
    "The t-Test estimates de difference between two group means, using the ratio of the difference in group means over the pooled standard error of both groups. We can calculate this using the t-test formula.\n",
    "\n",
    "#### 2.1 Formula for the t-Test statistic.\n",
    "The t-Test statistic is calculated using the formula:\n",
    "\n",
    "$t = \\frac{\\bar{d}}{s_d / \\sqrt{n}}$\n",
    "\n",
    "Where:\n",
    "- ${\\bar{d}}$: Mean of the differences between paired samples.\n",
    "- ${s_d}$ : Sample standard deviation of the differences.\n",
    "- ${n}$ : Number of paired observations.\n",
    "\n",
    "A larger $t$ value shows that the difference between group means is greater than the pooled standard error, indicating a more significant difference between the groups.\n",
    "\n",
    "#### 2.2 Hypothesis\n",
    "In the sample t-test, the null hypothesis and the alternative hypothesis are:\n",
    "- Null Hypothesis ($H_0$): The mean difference between the paired samples is zero ($\\mu_d = 0$).\n",
    "- Alternative Hypothesis (𝐻𝑎): The mean difference is not zero ($H_a: \\mu_d \\neq 0$)\n",
    "\n",
    "#### 2.3 Distribution\n",
    "- The t-Test statistic follows a t-distribution with ${n-1}$ degrees of freedom ${df = {n-1}}$ when the null hypothesis is true.\n",
    "- The shape of the t-distribution depends on the sample size:\n",
    "    - For small samples ${n<30}$, it is wider and has heavier tails than the normal distribution.\n",
    "    - For large samples, it approaches the normal distribution.\n",
    "\n",
    "#### 2.4 P-value\n",
    "- The p-value is the probability of observing a t-statistic as extreme as the calculated one if the null hypothesis is true.\n",
    "- A small p-value (e.g.,${p<0.05}$) suggests rejecting the null hypothesis, indicating a significant difference.\n",
    "***"
   ]
  },
  {
   "cell_type": "code",
   "execution_count": 4,
   "metadata": {},
   "outputs": [
    {
     "name": "stdout",
     "output_type": "stream",
     "text": [
      "\n",
      "T-test between trt1 and trt2:\n",
      "T-statistic: -3.0101, P-value: 0.0075\n",
      "Conclusion: There is a significant difference between trt1 and trt2 groups.\n"
     ]
    }
   ],
   "source": [
    "# T-test: Comparison between trt1 and trt2\n",
    "group_trt1 = data[data['group'] == 'trt1']['weight']\n",
    "group_trt2 = data[data['group'] == 'trt2']['weight']\n",
    "\n",
    "t_stat, p_value = stats.ttest_ind(group_trt1, group_trt2)\n",
    "print(\"\\nT-test between trt1 and trt2:\")\n",
    "print(f\"T-statistic: {t_stat:.4f}, P-value: {p_value:.4f}\")\n",
    "if p_value < 0.05:\n",
    "    print(\"Conclusion: There is a significant difference between trt1 and trt2 groups.\")\n",
    "else:\n",
    "    print(\"Conclusion: There is no sufficient evidence to claim a significant difference between trt1 and trt2 groups.\")"
   ]
  },
  {
   "cell_type": "markdown",
   "metadata": {},
   "source": [
    "## 3. ANOVA\n",
    "\n",
    "ANOVA (Analysis of Variance) is a statistical method used to determine whether there are statistically significant differences between the means of three or more independent groups [09].\n",
    "\n",
    "### 3.1 Type of tests.\n",
    "\n",
    "- **One-way ANOVA**: Used when we are testing one categorical independent variable and one quantitative dependent variable. The independent variable should have at least three levels (i.e. at least three different groups or categories).\n",
    "- **Two way ANOVA**: This is an extension of the One Way ANOVA. We use a two way ANOVA when we have one measurement variable (i.e. a quantitative variable) and two nominal variables. In other words, if the experiment has a quantitative outcome and we have two categorical explanatory variables, a two way ANOVA is appropriate.\n",
    "\n",
    "### 3.2 Key Components of ANOVA.\n",
    "1. **Groups:** ANOVA compares multiple groups (e.g., different samples, treatments, or categories).\n",
    "2. **Null Hypothesis $(H0)$:** All group means are equal.\n",
    "    - $H_0: \\mu_1 = \\mu_2 = \\mu_3 = \\ldots$\n",
    "    - ANOVA tests whether any differences are due to random variability.\n",
    "3. **Alternative Hypothesis $(𝐻𝑎)$:** At least one group mean is different from the others.\n",
    "    - Between-group variance: Differences due to the group means.\n",
    "    - Within-group variance: Variability within each group.\n",
    "\n",
    "### 3.3 How does an ANOVA test work?\n",
    "ANOVA determines whether the groups created by the levels of the independent variable are statistically different by calculating whether the means of the treatment levels are different from the overall mean of the dependent variable.\n",
    "\n",
    "If any of the group means is significantly different from the overall mean, then the null hypothesis is rejected."
   ]
  },
  {
   "cell_type": "markdown",
   "metadata": {},
   "source": [
    "## 6. References\n",
    "[01] [Dobson, A. J. (1983) An Introduction to Statistical Modelling. London: Chapman and Hall.] (https://vincentarelbundock.github.io/Rdatasets/articles/data.html)  \n",
    "[02] [Python Software Foundation. Python. (2024).] (https://www.python.org/)  \n",
    "[03] [Pandas via NumFOCUS. Pandas. (2024).] (https://pandas.pydata.org/)  \n",
    "[04] [NumPy team. Numpy. (2024).] (https://numpy.org/) \n",
    "[05] [Matplotlib development team. Matplotlib: Visualization with Python. (2012 - 2024).] (https://matplotlib.org/)  \n",
    "[06] [Seaborn Development Team. Seaborn: Statistical Data Visualization. (2012 - 2024).] (https://seaborn.pydata.org/)  \n",
    "[07] [The SciPy community. SciPy: Fundamental algorithms for scientific computing in Python. (2008 - 2024)] (https://docs.scipy.org/doc/scipy/index.html)  \n",
    "[08] [Scribbr. An Introduction to t Tests. (2024)] (https://www.scribbr.com/statistics/t-test/)  \n",
    "[09] [Scribbr. One-way ANOVA (2024)] (https://www.scribbr.com/statistics/one-way-anova/#:~:text=ANOVA%2C%20which%20stands%20for%20Analysis,ANOVA%20uses%20two%20independent%20variables.)"
   ]
  },
  {
   "cell_type": "markdown",
   "metadata": {},
   "source": []
  }
 ],
 "metadata": {
  "kernelspec": {
   "display_name": "base",
   "language": "python",
   "name": "python3"
  },
  "language_info": {
   "codemirror_mode": {
    "name": "ipython",
    "version": 3
   },
   "file_extension": ".py",
   "mimetype": "text/x-python",
   "name": "python",
   "nbconvert_exporter": "python",
   "pygments_lexer": "ipython3",
   "version": "3.9.19"
  }
 },
 "nbformat": 4,
 "nbformat_minor": 2
}
